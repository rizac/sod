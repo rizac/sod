{
 "cells": [
  {
   "cell_type": "code",
   "execution_count": 2,
   "metadata": {},
   "outputs": [
    {
     "name": "stdout",
     "output_type": "stream",
     "text": [
      "Reading globalset\n",
      "dataframe length: 6978912\n",
      "inliers: 1292496\n",
      "noinliers: 5686416\n",
      "\n",
      "Saving to /Users/riccardo/work/gfz/projects/sources/python/sod/sod/datasets/globalset.inliers.hdf\n",
      "Saving to /Users/riccardo/work/gfz/projects/sources/python/sod/sod/datasets/globalset.noinliers.hdf\n",
      "\n",
      "\n",
      "Reading allset\n",
      "dataframe length: 4344149\n",
      "inliers: 1451765\n",
      "noinliers: 2892384\n",
      "\n",
      "Saving to /Users/riccardo/work/gfz/projects/sources/python/sod/sod/datasets/allset.inliers.hdf\n",
      "Saving to /Users/riccardo/work/gfz/projects/sources/python/sod/sod/datasets/allset.noinliers.hdf\n",
      "\n",
      "\n",
      "DONE\n"
     ]
    }
   ],
   "source": [
    "# splitting datasets:\n",
    "import importlib\n",
    "import os, pandas as pd, numpy as np\n",
    "from joblib import dump, load\n",
    "import pandas as pd\n",
    "\n",
    "import sys\n",
    "sys.path.append(os.path.dirname(os.path.dirname(os.getcwd())))\n",
    "import sod.core.dataset as sod_core_dataset\n",
    "importlib.reload(sod_core_dataset)\n",
    "import sod.core.plot as sod_plot\n",
    "importlib.reload(sod_plot)\n",
    "\n",
    "globalset = sod_core_dataset.globalset\n",
    "\n",
    "path = '/Users/riccardo/work/gfz/projects/sources/python/sod/sod/datasets'\n",
    "for name in ['globalset', 'allset']:\n",
    "    print('Reading %s' % name)\n",
    "    dataframe = pd.read_hdf('%s/%s.hdf' % (path, name))\n",
    "    is_inl = globalset.class_selector[globalset.classnames[0]](dataframe)\n",
    "    print('dataframe length: %d' % len(dataframe))\n",
    "    inl_df = dataframe[is_inl]\n",
    "    noinl_df = dataframe[~is_inl]\n",
    "    assert (~inl_df.outlier).all()\n",
    "    assert noinl_df.outlier.any() and (~noinl_df.outlier).any()\n",
    "    print('inliers: %d' % len(inl_df))\n",
    "    print('noinliers: %d' % len(noinl_df))\n",
    "    print()\n",
    "\n",
    "    inl_path = '%s/%s.inliers.hdf' % (path, name)\n",
    "    noinl_path = '%s/%s.noinliers.hdf' % (path, name)\n",
    "    \n",
    "    print('Saving to %s' % inl_path)\n",
    "    inl_df.to_hdf(\n",
    "        inl_path,\n",
    "        format='table', mode='w',\n",
    "        key='%s_inliers' % name\n",
    "    )\n",
    "    print('Saving to %s' % noinl_path)\n",
    "    noinl_df.to_hdf(\n",
    "        noinl_path,\n",
    "        format='table', mode='w',\n",
    "        key='%s_noinliers' % name\n",
    "    )\n",
    "    print()\n",
    "    print()\n",
    "\n",
    "print('DONE')"
   ]
  },
  {
   "cell_type": "code",
   "execution_count": null,
   "metadata": {},
   "outputs": [],
   "source": []
  }
 ],
 "metadata": {
  "kernelspec": {
   "display_name": "Python 3",
   "language": "python",
   "name": "python3"
  },
  "language_info": {
   "codemirror_mode": {
    "name": "ipython",
    "version": 3
   },
   "file_extension": ".py",
   "mimetype": "text/x-python",
   "name": "python",
   "nbconvert_exporter": "python",
   "pygments_lexer": "ipython3",
   "version": "3.7.3"
  }
 },
 "nbformat": 4,
 "nbformat_minor": 2
}
