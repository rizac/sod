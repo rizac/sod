{
 "cells": [
  {
   "cell_type": "code",
   "execution_count": 11,
   "metadata": {
    "scrolled": false
   },
   "outputs": [
    {
     "name": "stdout",
     "output_type": "stream",
     "text": [
      "Opening /Users/riccardo/work/gfz/projects/sources/python/sod/sod/datasets/allset.hdf\n",
      "\n",
      "\n",
      "ok (1451765 instances)\n",
      "                         Min      Median           Max    #NAs  #<1Perc.  #>99Perc.\n",
      "psd@0.05sec     -3076.526611 -121.268117    -18.616519  614002         0       8378\n",
      "psd@0.1sec      -3076.526611 -123.085388    -18.540183       0     14518      14518\n",
      "psd@0.2sec      -3076.526611 -124.808643    -18.394193       1     14518      14518\n",
      "psd@0.5sec      -3076.526611 -126.766839    -17.799973       4     14518      14518\n",
      "psd@1sec        -3076.526611 -124.398356    -17.364621      10     14518      14518\n",
      "psd@2sec        -3076.526611 -121.330894    -14.675753      21     14518      14518\n",
      "psd@3sec        -3076.526611 -121.021820     -7.249915      54     14518      14518\n",
      "psd@5sec        -3076.526611 -122.757093      7.845090      56     14518      14518\n",
      "psd@9sec        -3076.526611 -131.116604     19.164349   27289     14245      14245\n",
      "amplitude_ratio     0.000000    0.001165     36.623112       0     14481      11927\n",
      "magnitude           0.900000    4.400000      8.900000       0     13038      13028\n",
      "distance_km         0.624166  338.417088  10897.099856       0     14515      14518\n",
      "\n",
      "outl. (wrong inv) (93564 instances)\n",
      "                         Min       Median           Max   #NAs  #<1Perc.  #>99Perc.\n",
      "psd@0.05sec     -3076.526611  -139.878853    124.174719  19558       741        740\n",
      "psd@0.1sec      -3076.526611  -181.653198    116.394202   1325       923        923\n",
      "psd@0.2sec      -3076.526611  -175.751328    116.390351      0       936        934\n",
      "psd@0.5sec      -3076.526611  -167.924376    117.460005      0       936        935\n",
      "psd@1sec        -3076.526611  -162.157252    117.859818      0       936        936\n",
      "psd@2sec        -3076.526611  -159.599943    118.159805      0       936        935\n",
      "psd@3sec        -3076.526611  -160.291710    120.928113      0       936        935\n",
      "psd@5sec        -3076.526611  -165.399843    125.541065      0       936        934\n",
      "psd@9sec        -3076.526611  -176.187393    123.158535   1326       923        922\n",
      "amplitude_ratio     0.000000     0.000621      0.999902      0       935        936\n",
      "magnitude           1.500000     5.800000      8.900000      0       408       1359\n",
      "distance_km         2.064759  7937.026261  10896.829155      0       936        936\n",
      "\n",
      "unlabeled (Me suspicious outl.) (24437 instances)\n",
      "                         Min       Median           Max   #NAs  #<1Perc.  #>99Perc.\n",
      "psd@0.05sec      -181.506546   -96.382490     37.300945  16210        83         83\n",
      "psd@0.1sec       -173.286316  -110.744781     17.779503   4727       198        196\n",
      "psd@0.2sec       -189.288559  -123.177551    -10.869155      0       245        245\n",
      "psd@0.5sec       -196.931491  -127.327209    -27.077514      0       245        245\n",
      "psd@1sec         -202.371422  -128.640981    -27.910942      0       245        245\n",
      "psd@2sec         -208.018186  -123.006321    -29.583524      0       245        244\n",
      "psd@3sec         -210.498632  -119.390860    -29.874560      0       245        244\n",
      "psd@5sec         -213.636472  -117.103096    -27.797594      0       245        245\n",
      "psd@9sec         -218.264586  -124.115677    -31.945873      0       245        245\n",
      "amplitude_ratio     0.000004     0.001652      5.020171      0       245        245\n",
      "magnitude           4.600000     5.800000      8.900000      0        30        165\n",
      "distance_km      2224.729418  8461.990457  10897.043297      0       244        245\n",
      "\n",
      "unlabeled (Me unknown) (2774383 instances)\n",
      "                         Min       Median           Max     #NAs  #<1Perc.  #>99Perc.\n",
      "psd@0.05sec     -3076.526611  -128.353305  7.932380e+02  1109505     16647      16649\n",
      "psd@0.1sec      -3076.526611  -134.215363  7.562953e+02    38581     27359      27359\n",
      "psd@0.2sec      -3076.526611  -139.638490  7.430760e+02     2099     27723      27723\n",
      "psd@0.5sec      -3076.526611  -138.735158  7.258983e+02     2099     27722      27723\n",
      "psd@1sec        -3076.526611  -132.525077  7.136773e+02     2099     27723      27723\n",
      "psd@2sec        -3076.526611  -126.021781  7.019696e+02     2099     27723      27723\n",
      "psd@3sec        -3076.526611  -123.444505  6.984906e+02     2099     27723      27723\n",
      "psd@5sec        -3076.526611  -122.638430  6.589872e+02     2099     27723      27723\n",
      "psd@9sec        -3076.526611  -130.815605  6.512719e+02     2099     27723      27724\n",
      "amplitude_ratio     0.000000     0.000637  9.716468e+37        0     27649      27741\n",
      "magnitude           4.600000     5.800000  8.900000e+00        0      3411      18532\n",
      "distance_km      2223.901682  8447.947927  1.089710e+04        0     27744      27739\n",
      "\n",
      "ok (1451765 instances)\n",
      "                         Min      Median           Max    #NAs  #<1Perc.  #>99Perc.\n",
      "psd@0.05sec     -3076.526611 -121.268117    -18.616519  614002         0       8378\n",
      "psd@0.1sec      -3076.526611 -123.085388    -18.540183       0     14518      14518\n",
      "psd@0.2sec      -3076.526611 -124.808643    -18.394193       1     14518      14518\n",
      "psd@0.5sec      -3076.526611 -126.766839    -17.799973       4     14518      14518\n",
      "psd@1sec        -3076.526611 -124.398356    -17.364621      10     14518      14518\n",
      "psd@2sec        -3076.526611 -121.330894    -14.675753      21     14518      14518\n",
      "psd@3sec        -3076.526611 -121.021820     -7.249915      54     14518      14518\n",
      "psd@5sec        -3076.526611 -122.757093      7.845090      56     14518      14518\n",
      "psd@9sec        -3076.526611 -131.116604     19.164349   27289     14245      14245\n",
      "amplitude_ratio     0.000000    0.001165     36.623112       0     14481      11927\n",
      "magnitude           0.900000    4.400000      8.900000       0     13038      13028\n",
      "distance_km         0.624166  338.417088  10897.099856       0     14515      14518\n",
      "\n",
      "outl. (wrong inv) (93564 instances)\n",
      "                         Min       Median           Max   #NAs  #<1Perc.  #>99Perc.\n",
      "psd@0.05sec     -3076.526611  -139.878853    124.174719  19558       741        740\n",
      "psd@0.1sec      -3076.526611  -181.653198    116.394202   1325       923        923\n",
      "psd@0.2sec      -3076.526611  -175.751328    116.390351      0       936        934\n",
      "psd@0.5sec      -3076.526611  -167.924376    117.460005      0       936        935\n",
      "psd@1sec        -3076.526611  -162.157252    117.859818      0       936        936\n",
      "psd@2sec        -3076.526611  -159.599943    118.159805      0       936        935\n",
      "psd@3sec        -3076.526611  -160.291710    120.928113      0       936        935\n",
      "psd@5sec        -3076.526611  -165.399843    125.541065      0       936        934\n",
      "psd@9sec        -3076.526611  -176.187393    123.158535   1326       923        922\n",
      "amplitude_ratio     0.000000     0.000621      0.999902      0       935        936\n",
      "magnitude           1.500000     5.800000      8.900000      0       408       1359\n",
      "distance_km         2.064759  7937.026261  10896.829155      0       936        936\n",
      "\n",
      "unlabeled (Me suspicious outl.) (24437 instances)\n",
      "                         Min       Median           Max   #NAs  #<1Perc.  #>99Perc.\n",
      "psd@0.05sec      -181.506546   -96.382490     37.300945  16210        83         83\n",
      "psd@0.1sec       -173.286316  -110.744781     17.779503   4727       198        196\n",
      "psd@0.2sec       -189.288559  -123.177551    -10.869155      0       245        245\n",
      "psd@0.5sec       -196.931491  -127.327209    -27.077514      0       245        245\n",
      "psd@1sec         -202.371422  -128.640981    -27.910942      0       245        245\n",
      "psd@2sec         -208.018186  -123.006321    -29.583524      0       245        244\n",
      "psd@3sec         -210.498632  -119.390860    -29.874560      0       245        244\n",
      "psd@5sec         -213.636472  -117.103096    -27.797594      0       245        245\n",
      "psd@9sec         -218.264586  -124.115677    -31.945873      0       245        245\n",
      "amplitude_ratio     0.000004     0.001652      5.020171      0       245        245\n",
      "magnitude           4.600000     5.800000      8.900000      0        30        165\n",
      "distance_km      2224.729418  8461.990457  10897.043297      0       244        245\n",
      "\n",
      "unlabeled (Me unknown) (2774383 instances)\n",
      "                         Min       Median           Max     #NAs  #<1Perc.  #>99Perc.\n",
      "psd@0.05sec     -3076.526611  -128.353305  7.932380e+02  1109505     16647      16649\n",
      "psd@0.1sec      -3076.526611  -134.215363  7.562953e+02    38581     27359      27359\n",
      "psd@0.2sec      -3076.526611  -139.638490  7.430760e+02     2099     27723      27723\n",
      "psd@0.5sec      -3076.526611  -138.735158  7.258983e+02     2099     27722      27723\n",
      "psd@1sec        -3076.526611  -132.525077  7.136773e+02     2099     27723      27723\n",
      "psd@2sec        -3076.526611  -126.021781  7.019696e+02     2099     27723      27723\n",
      "psd@3sec        -3076.526611  -123.444505  6.984906e+02     2099     27723      27723\n",
      "psd@5sec        -3076.526611  -122.638430  6.589872e+02     2099     27723      27723\n",
      "psd@9sec        -3076.526611  -130.815605  6.512719e+02     2099     27723      27724\n",
      "amplitude_ratio     0.000000     0.000637  9.716468e+37        0     27649      27741\n",
      "magnitude           4.600000     5.800000  8.900000e+00        0      3411      18532\n",
      "distance_km      2223.901682  8447.947927  1.089710e+04        0     27744      27739\n"
     ]
    }
   ],
   "source": [
    "import importlib\n",
    "import os, pandas as pd, numpy as np\n",
    "from joblib import dump, load\n",
    "import sys\n",
    "sys.path.append(os.path.dirname(os.path.dirname(os.getcwd())))\n",
    "# from sod.core.evaluation import normalize\n",
    "import sod.core.dataset as sod_core_dataset\n",
    "importlib.reload(sod_core_dataset)\n",
    "import sod.core.plot as sod_plot\n",
    "importlib.reload(sod_plot)\n",
    "# from sod.core.dataset import open_dataset # , normalize_df\n",
    "# from sod import plot\n",
    "isoutl = sod_core_dataset.is_outlier\n",
    "\n",
    "dataframe = sod_core_dataset.open_dataset('allset.hdf', normalize=False, verbose=True)\n",
    "print(sod_core_dataset.dfinfo(dataframe))"
   ]
  },
  {
   "cell_type": "code",
   "execution_count": 12,
   "metadata": {
    "scrolled": false
   },
   "outputs": [
    {
     "name": "stdout",
     "output_type": "stream",
     "text": [
      "artifacts on ok segments: 11511\n"
     ]
    },
    {
     "data": {
      "image/png": "[encoded data removed]",
      "text/plain": [
       "<Figure size 1080x1080 with 1 Axes>"
      ]
     },
     "metadata": {
      "needs_background": "light"
     },
     "output_type": "display_data"
    }
   ],
   "source": [
    "import importlib\n",
    "import sod.core.plot as sod_plot\n",
    "importlib.reload(sod_plot)\n",
    "import sod.core.dataset as sod_dataset\n",
    "importlib.reload(sod_dataset)\n",
    "import matplotlib.pyplot as plt\n",
    "import numpy as np\n",
    "\n",
    "# matplotlib stuff (used below) =====================================\n",
    "import matplotlib.pyplot as plt\n",
    "from contextlib import contextmanager\n",
    "@contextmanager\n",
    "def plotparams(params):\n",
    "    '''makes temporarily matplotlib params.\n",
    "    Make sure to run this after %matplotlib inline.\n",
    "    For info see https://stackoverflow.com/questions/36367986/how-to-make-inline-plots-in-jupyter-notebook-larger'''\n",
    "    def_params = {k: plt.rcParams[k] for k in params}\n",
    "    for k, v in params.items():\n",
    "        plt.rcParams[k] = v\n",
    "    try:\n",
    "        yield\n",
    "    finally:\n",
    "        for k, v in def_params.items():\n",
    "            plt.rcParams[k] = v\n",
    "\n",
    "# =====================================================================\n",
    "\n",
    "dinfo = sod_dataset.dataset_info(dataframe)\n",
    "\n",
    "dataframe_ok = dataframe[dinfo.class_selector[dinfo.classnames[0]](dataframe)]\n",
    "\n",
    "%matplotlib inline\n",
    "col = dataframe_ok['psd@5sec']\n",
    "print('artifacts on ok segments: %d' % len(dataframe_ok[col<-3000]))\n",
    "\n",
    "# This prints the artifacts. Uncomment if you want to show them.\n",
    "# We inspected them and they are issued from a miniSeed with all constant (relatively high)\n",
    "# values. WHAT IS THE CAUSE?\n",
    "# dataframe_ok = dataframe[dinfo.class_selector[dinfo.classnames[0]](dataframe)]\n",
    "# dataframe_artifacts = dataframe_ok[col < -3000]\n",
    "# for (staid, did, segid), _ in dataframe_artifacts.groupby(['station_id', 'dataset_id', 'allset.id']):\n",
    "#     print('dataset id: %d, station id: %d, segment id: %d' % (did, staid, segid))\n",
    "    \n",
    "\n",
    "bins = np.arange(int(np.nanmin(col)-10), int(np.nanmax(col)+10), 10)\n",
    "    \n",
    "with plotparams({'figure.figsize': (15, 15)}):\n",
    "    plt.hist(dataframe_ok['psd@5sec'], bins, log=True)\n",
    "    plt.show()"
   ]
  },
  {
   "cell_type": "code",
   "execution_count": 13,
   "metadata": {},
   "outputs": [
    {
     "name": "stdout",
     "output_type": "stream",
     "text": [
      "Reading dataframe with pandas (no sod column renaming/conversions)\n"
     ]
    }
   ],
   "source": [
    "print('Reading dataframe with pandas (no sod column renaming/conversions)')\n",
    "dfr = pd.read_hdf('/Users/riccardo/work/gfz/projects/sources/python/sod/sod/datasets/allset.hdf')\n",
    "o_dfr = dfr.copy()"
   ]
  },
  {
   "cell_type": "code",
   "execution_count": 14,
   "metadata": {},
   "outputs": [
    {
     "name": "stdout",
     "output_type": "stream",
     "text": [
      "Re-setting labels for 11511 inliers actually artifacts. \"window_type\" column will be set to \"a\"\n"
     ]
    }
   ],
   "source": [
    "# now, mark the artifacts as outliers:\n",
    "\n",
    "# first read the dataframe \"normally\":\n",
    "import pandas as pd\n",
    "\n",
    "is_inlier = dinfo.class_selector[dinfo.classnames[0]]\n",
    "\n",
    "ok_artifacts = ((dfr['psd@5sec'] < - 500) | (dfr['psd@5sec'] > 500)) & is_inlier(dfr)\n",
    "colval = 'a'\n",
    "print('Re-setting labels for %d inliers actually artifacts. \"window_type\" column will be set to \"%s\"' %\n",
    "      (ok_artifacts.sum(), colval))\n",
    "dfr.loc[ok_artifacts, 'outlier'] = True\n",
    "# we might set subclass, but this way we have to redefine a new dataset with new class selectors\n",
    "# and it would be incompatible with allset.hdf. Thus set window_type\n",
    "dfr.loc[ok_artifacts, 'window_type'] = colval\n",
    "# set also outlier=False to all unknown. In the code, 'unlabeled.' belongs to the same class\n",
    "dfr.loc[dfr.subclass.str.contains('unlabeled.'), 'outlier'] = False"
   ]
  },
  {
   "cell_type": "code",
   "execution_count": 15,
   "metadata": {},
   "outputs": [
    {
     "name": "stdout",
     "output_type": "stream",
     "text": [
      "Splitting train and test\n",
      "\n",
      "Train (all inliers): 1440254 segments\n",
      "Train has these combinations of [subclass, window_type, outlier] values:\n",
      "(1, '', 'n', False)\n",
      "(1, '', 's', False)\n",
      "(2, '', '', False)\n",
      "(3, '', '', False)\n",
      "\n",
      "Test (others): 2903895 segments\n",
      "Test has these combinations of [subclass, window_type, outlier] values:\n",
      "(1, '', 'a', True)\n",
      "(1, 'INVFILE:CH.GRIMS.2011-11-09T00:00:00.xml', 'n', True)\n",
      "(1, 'INVFILE:CH.GRIMS.2011-11-09T00:00:00.xml', 's', True)\n",
      "(1, 'INVFILE:CH.GRIMS.2015-10-30T10:50:00.xml', 'n', True)\n",
      "(1, 'INVFILE:CH.GRIMS.2015-10-30T10:50:00.xml', 's', True)\n",
      "(1, 'INVFILE:FR.PYLO.2010-01-17T10:00:00.xml', 'n', True)\n",
      "(1, 'INVFILE:FR.PYLO.2010-01-17T10:00:00.xml', 's', True)\n",
      "(1, 'INVFILE:SK.MODS.2004-03-17T00:00:00.xml', 'n', True)\n",
      "(1, 'INVFILE:SK.MODS.2004-03-17T00:00:00.xml', 's', True)\n",
      "(1, 'INVFILE:SK.ZST.2004-03-17T00:00:00.xml', 'n', True)\n",
      "(1, 'INVFILE:SK.ZST.2004-03-17T00:00:00.xml', 's', True)\n",
      "(2, '', '', True)\n",
      "(2, '', 'a', True)\n",
      "(2, 'unlabeled.maybe.outlier', '', False)\n",
      "(2, 'unlabeled.unknown', '', False)\n"
     ]
    }
   ],
   "source": [
    "# Splitting train and test:\n",
    "print('Splitting train and test')\n",
    "\n",
    "allset_train = dfr[is_inlier(dfr)]\n",
    "print('\\nTrain (all inliers): %d segments' % len(allset_train))\n",
    "print('Train has these combinations of [subclass, window_type, outlier] values:')\n",
    "for _, df_ in allset_train.groupby(['dataset_id', 'subclass', 'window_type', 'outlier']):\n",
    "    print(_)\n",
    "\n",
    "allset_test = dfr[~is_inlier(dfr)]\n",
    "print('\\nTest (others): %d segments' % len(allset_test))\n",
    "print('Test has these combinations of [subclass, window_type, outlier] values:')\n",
    "for _, df_ in allset_test.groupby(['dataset_id', 'subclass', 'window_type', 'outlier']):\n",
    "    print(_)"
   ]
  },
  {
   "cell_type": "code",
   "execution_count": 16,
   "metadata": {
    "scrolled": false
   },
   "outputs": [
    {
     "name": "stdout",
     "output_type": "stream",
     "text": [
      "Moving some inliers from training set to test set\n",
      "\n",
      "Allset_train: 1440254 instances\n",
      "Allset_test:  2903895 instances\n",
      "\n",
      "\n",
      "Adding some inlier to allset_test (inliers within [0.10, 0.90] quantiles)\n",
      "Skipping dataframe (2 elements) identified by (dataset_id, station_id, subclass, window_type): (1, 681, '', 'n')\n",
      "Skipping dataframe (2 elements) identified by (dataset_id, station_id, subclass, window_type): (1, 681, '', 's')\n",
      "Skipping dataframe (1 elements) identified by (dataset_id, station_id, subclass, window_type): (1, 759, '', 'n')\n",
      "Skipping dataframe (1 elements) identified by (dataset_id, station_id, subclass, window_type): (1, 759, '', 's')\n",
      "Skipping dataframe (3 elements) identified by (dataset_id, station_id, subclass, window_type): (1, 964, '', 'n')\n",
      "Skipping dataframe (3 elements) identified by (dataset_id, station_id, subclass, window_type): (1, 964, '', 's')\n",
      "Skipping dataframe (2 elements) identified by (dataset_id, station_id, subclass, window_type): (1, 4167, '', 'n')\n",
      "Skipping dataframe (2 elements) identified by (dataset_id, station_id, subclass, window_type): (1, 4167, '', 's')\n",
      "Skipping dataframe (2 elements) identified by (dataset_id, station_id, subclass, window_type): (1, 4434, '', 'n')\n",
      "Skipping dataframe (2 elements) identified by (dataset_id, station_id, subclass, window_type): (1, 4434, '', 's')\n",
      "Skipping dataframe (1 elements) identified by (dataset_id, station_id, subclass, window_type): (1, 4448, '', 'n')\n",
      "Skipping dataframe (1 elements) identified by (dataset_id, station_id, subclass, window_type): (1, 4448, '', 's')\n",
      "Skipping dataframe (2 elements) identified by (dataset_id, station_id, subclass, window_type): (1, 4776, '', 'n')\n",
      "Skipping dataframe (2 elements) identified by (dataset_id, station_id, subclass, window_type): (1, 4776, '', 's')\n",
      "Skipping dataframe (4 elements) identified by (dataset_id, station_id, subclass, window_type): (1, 4978, '', 'n')\n",
      "Skipping dataframe (4 elements) identified by (dataset_id, station_id, subclass, window_type): (1, 4978, '', 's')\n",
      "Skipping dataframe (2 elements) identified by (dataset_id, station_id, subclass, window_type): (1, 4979, '', 'n')\n",
      "Skipping dataframe (2 elements) identified by (dataset_id, station_id, subclass, window_type): (1, 4979, '', 's')\n",
      "Skipping dataframe (3 elements) identified by (dataset_id, station_id, subclass, window_type): (1, 5831, '', 'n')\n",
      "Skipping dataframe (3 elements) identified by (dataset_id, station_id, subclass, window_type): (1, 5831, '', 's')\n",
      "Skipping dataframe (1 elements) identified by (dataset_id, station_id, subclass, window_type): (1, 10142, '', 'n')\n",
      "Skipping dataframe (1 elements) identified by (dataset_id, station_id, subclass, window_type): (1, 10142, '', 's')\n",
      "\n",
      "Done. New dataset (compare numbers above, before this run):\n",
      "Allset_train: 1295742 instances\n",
      "Allset_test: 2997672 instances\n",
      "\n",
      "DONE\n"
     ]
    }
   ],
   "source": [
    "import pandas as pd\n",
    "\n",
    "# Now we want to put some inlier in our test set. Let's add data inside the distribution to be sure we do not\n",
    "# mark as inliers other artifacts:\n",
    "\n",
    "print('Moving some inliers from training set to test set')\n",
    "print()\n",
    "\n",
    "print('Allset_train: %d instances' % len(allset_train))\n",
    "print('Allset_test:  %d instances' % len(allset_test))\n",
    "print()\n",
    "\n",
    "percentage = 0.2  # this is the percentage of data to be put in the allset_test\n",
    "min_len = int(0.5 + 1/percentage)\n",
    "\n",
    "if min_len < 2:\n",
    "    raise Exception('Change percentage!')\n",
    "\n",
    "print()\n",
    "\n",
    "\n",
    "cols = ['psd@0.2sec', 'psd@0.5sec', 'psd@1sec', 'psd@2sec', 'psd@5sec']\n",
    "# Set the quantiles. Inliers will be taken when inside the quantiles defined below\n",
    "# FOR ALL FEATURES in cols ABOVE: in order to put in test a number of inliers\n",
    "# somehow equal to the outliers, [0.1, 0.9] is ok. Stricter ranges\n",
    "quantile_l_th = 0.1\n",
    "quantile_h_th = 1.0 - quantile_l_th\n",
    "print('Adding some inlier to allset_test (inliers within [%.2f, %.2f] quantiles)' % (quantile_l_th, quantile_h_th))\n",
    "\n",
    "trainings = []\n",
    "tests = [allset_test]\n",
    "\n",
    "for _, df_ in allset_train.groupby(['dataset_id', 'station_id', 'subclass', 'window_type']):\n",
    "    df_train = df_\n",
    "    len_df_ =len(df_)\n",
    "    for colname in cols:\n",
    "        df_col = df_[colname]\n",
    "        df_ = df_[df_col.between(df_col.quantile(quantile_l_th), df_col.quantile(quantile_h_th), inclusive=False)]\n",
    "        if df_.empty or len(df_) < min_len:\n",
    "            break\n",
    "\n",
    "    df_test = None if df_.empty else df_.sample(frac=percentage, random_state=1)\n",
    "    if df_test is None or df_test.empty:\n",
    "        print('Skipping dataframe (%d elements) identified by '\n",
    "              '(dataset_id, station_id, subclass, window_type): %s' % (len_df_, str(_)))        \n",
    "    else:\n",
    "        tests.append(df_test)\n",
    "        assert not len(set(df_test.index) - set(df_.index))\n",
    "        df_train = df_train[~df_train.index.isin(df_test.index)]\n",
    "    trainings.append(df_train)\n",
    "    \n",
    "\n",
    "allset_train =  pd.concat(trainings, sort=False, axis=0, copy=True).reset_index(drop=True, inplace=False)\n",
    "allset_test =  pd.concat(tests, sort=False, axis=0, copy=True).reset_index(drop=True, inplace=False)\n",
    "\n",
    "print()\n",
    "print('Done. New dataset (compare numbers above, before this run):')\n",
    "print('Allset_train: %d instances' % len(allset_train))\n",
    "print('Allset_test: %d instances' % len(allset_test))\n",
    "\n",
    "print()\n",
    "print('DONE')"
   ]
  },
  {
   "cell_type": "code",
   "execution_count": 17,
   "metadata": {
    "scrolled": false
   },
   "outputs": [
    {
     "name": "stdout",
     "output_type": "stream",
     "text": [
      "Printint distributions to check everything makes sense\n",
      "\n",
      "\n",
      "===================================================================\n",
      "\n",
      "Stats for dataset: train, class: ok, segments: 1295742\n"
     ]
    },
    {
     "data": {
      "image/png": "[encoded data removed]",
      "text/plain": [
       "<Figure size 1080x216 with 1 Axes>"
      ]
     },
     "metadata": {
      "needs_background": "light"
     },
     "output_type": "display_data"
    },
    {
     "data": {
      "image/png": "[encoded data removed]",
      "text/plain": [
       "<Figure size 1080x216 with 1 Axes>"
      ]
     },
     "metadata": {
      "needs_background": "light"
     },
     "output_type": "display_data"
    },
    {
     "name": "stdout",
     "output_type": "stream",
     "text": [
      "\n",
      "Stats for dataset: train, class: outl. (wrong inv), segments: 0\n",
      "\n",
      "Stats for dataset: train, class: unlabeled (Me suspicious outl.), segments: 0\n",
      "\n",
      "Stats for dataset: train, class: unlabeled (Me unknown), segments: 0\n",
      "\n",
      "===================================================================\n",
      "\n",
      "Stats for dataset: test, class: ok, segments: 93777\n"
     ]
    },
    {
     "data": {
      "image/png": "[encoded data removed]",
      "text/plain": [
       "<Figure size 1080x216 with 1 Axes>"
      ]
     },
     "metadata": {
      "needs_background": "light"
     },
     "output_type": "display_data"
    },
    {
     "data": {
      "image/png": "[encoded data removed]",
      "text/plain": [
       "<Figure size 1080x216 with 1 Axes>"
      ]
     },
     "metadata": {
      "needs_background": "light"
     },
     "output_type": "display_data"
    },
    {
     "name": "stdout",
     "output_type": "stream",
     "text": [
      "\n",
      "Stats for dataset: test, class: outl. (wrong inv), segments: 105075\n"
     ]
    },
    {
     "data": {
      "image/png": "[encoded data removed]",
      "text/plain": [
       "<Figure size 1080x216 with 1 Axes>"
      ]
     },
     "metadata": {
      "needs_background": "light"
     },
     "output_type": "display_data"
    },
    {
     "data": {
      "image/png": "[encoded data removed]",
      "text/plain": [
       "<Figure size 1080x216 with 1 Axes>"
      ]
     },
     "metadata": {
      "needs_background": "light"
     },
     "output_type": "display_data"
    },
    {
     "name": "stdout",
     "output_type": "stream",
     "text": [
      "\n",
      "Stats for dataset: test, class: unlabeled (Me suspicious outl.), segments: 24437\n"
     ]
    },
    {
     "data": {
      "image/png": "[encoded data removed]",
      "text/plain": [
       "<Figure size 1080x216 with 1 Axes>"
      ]
     },
     "metadata": {
      "needs_background": "light"
     },
     "output_type": "display_data"
    },
    {
     "data": {
      "image/png": "[encoded data removed]",
      "text/plain": [
       "<Figure size 1080x216 with 1 Axes>"
      ]
     },
     "metadata": {
      "needs_background": "light"
     },
     "output_type": "display_data"
    },
    {
     "name": "stdout",
     "output_type": "stream",
     "text": [
      "\n",
      "Stats for dataset: test, class: unlabeled (Me unknown), segments: 2774383\n"
     ]
    },
    {
     "data": {
      "image/png": "[encoded data removed]",
      "text/plain": [
       "<Figure size 1080x216 with 1 Axes>"
      ]
     },
     "metadata": {
      "needs_background": "light"
     },
     "output_type": "display_data"
    },
    {
     "data": {
      "image/png": "[encoded data removed]",
      "text/plain": [
       "<Figure size 1080x216 with 1 Axes>"
      ]
     },
     "metadata": {
      "needs_background": "light"
     },
     "output_type": "display_data"
    }
   ],
   "source": [
    "print('Printint distributions to check everything makes sense')\n",
    "print()\n",
    "\n",
    "for df_, name in [(allset_train, 'train'),  (allset_test, 'test')]:\n",
    "    print()\n",
    "    print('===================================================================')\n",
    "    for cname in dinfo.classnames:\n",
    "        tmpdf = df_[dinfo.class_selector[cname](df_)]\n",
    "        print('\\nStats for dataset: %s, class: %s, segments: %d' % (name, cname, len(tmpdf)))\n",
    "        if tmpdf.empty:\n",
    "            continue\n",
    "        with plotparams({'figure.figsize': (15, 3)}):\n",
    "            # print('Magnitude distributions')\n",
    "            plt.hist(tmpdf.magnitude, histtype='bar', stacked=False, log=True)\n",
    "            plt.title('Magnitudes')\n",
    "            plt.show()\n",
    "            # print('Distances (km) distributions')\n",
    "            plt.hist(tmpdf.distance_km, histtype='bar', stacked=False, log=True)\n",
    "            plt.title('Distances (km)')\n",
    "            plt.show()\n",
    "            \n",
    "    "
   ]
  },
  {
   "cell_type": "code",
   "execution_count": 18,
   "metadata": {},
   "outputs": [
    {
     "name": "stdout",
     "output_type": "stream",
     "text": [
      "Saving to file /Users/riccardo/work/gfz/projects/sources/python/sod/sod/datasets/allset_train.hdf\n",
      "Saving to file /Users/riccardo/work/gfz/projects/sources/python/sod/sod/datasets/allset_test.hdf\n"
     ]
    }
   ],
   "source": [
    "import os\n",
    "\n",
    "path = '/Users/riccardo/work/gfz/projects/sources/python/sod/sod/datasets/'\n",
    "assert os.path.isdir(path)\n",
    "\n",
    "for df_, name in [(allset_train, 'allset_train'), (allset_test, 'allset_test')]:\n",
    "    outpath = os.path.join(path, name + '.hdf')\n",
    "    if os.path.isfile(outpath):\n",
    "        print('File exist, this scripts does not override for security reasons. '\n",
    "              'You need to manually delete the file %s' % outpath)\n",
    "        break\n",
    "    print('Saving to file %s' % outpath)\n",
    "    df_.to_hdf(outpath, format='table', mode='w', key=name)"
   ]
  },
  {
   "cell_type": "code",
   "execution_count": null,
   "metadata": {},
   "outputs": [],
   "source": []
  }
 ],
 "metadata": {
  "kernelspec": {
   "display_name": "Python 3",
   "language": "python",
   "name": "python3"
  },
  "language_info": {
   "codemirror_mode": {
    "name": "ipython",
    "version": 3
   },
   "file_extension": ".py",
   "mimetype": "text/x-python",
   "name": "python",
   "nbconvert_exporter": "python",
   "pygments_lexer": "ipython3",
   "version": "3.7.3"
  }
 },
 "nbformat": 4,
 "nbformat_minor": 2
}
