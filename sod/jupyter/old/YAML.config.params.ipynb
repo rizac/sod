{
 "cells": [
  {
   "cell_type": "code",
   "execution_count": 89,
   "metadata": {
    "scrolled": false
   },
   "outputs": [
    {
     "name": "stdout",
     "output_type": "stream",
     "text": [
      "100% done\n"
     ]
    },
    {
     "ename": "TypeError",
     "evalue": "unsupported operand type(s) for +: 'int' and 'str'",
     "output_type": "error",
     "traceback": [
      "\u001b[0;31m---------------------------------------------------------------------------\u001b[0m",
      "\u001b[0;31mTypeError\u001b[0m                                 Traceback (most recent call last)",
      "\u001b[0;32m<ipython-input-89-1b13ade362de>\u001b[0m in \u001b[0;36m<module>\u001b[0;34m\u001b[0m\n\u001b[1;32m     47\u001b[0m \u001b[0;34m\u001b[0m\u001b[0m\n\u001b[1;32m     48\u001b[0m \u001b[0mdata_seed_ids\u001b[0m \u001b[0;34m=\u001b[0m \u001b[0msorted\u001b[0m\u001b[0;34m(\u001b[0m\u001b[0mset\u001b[0m\u001b[0;34m(\u001b[0m\u001b[0mdata_seed_ids\u001b[0m\u001b[0;34m)\u001b[0m\u001b[0;34m)\u001b[0m\u001b[0;34m\u001b[0m\u001b[0;34m\u001b[0m\u001b[0m\n\u001b[0;32m---> 49\u001b[0;31m \u001b[0mprint\u001b[0m\u001b[0;34m(\u001b[0m\u001b[0mlen\u001b[0m\u001b[0;34m(\u001b[0m\u001b[0mdata_seed_ids\u001b[0m\u001b[0;34m)\u001b[0m \u001b[0;34m+\u001b[0m \u001b[0;34m' good channels found'\u001b[0m\u001b[0;34m)\u001b[0m\u001b[0;34m\u001b[0m\u001b[0;34m\u001b[0m\u001b[0m\n\u001b[0m",
      "\u001b[0;31mTypeError\u001b[0m: unsupported operand type(s) for +: 'int' and 'str'"
     ]
    }
   ],
   "source": [
    "import os, warnings, sys, yaml\n",
    "from stream2segment.process.db import get_session\n",
    "from stream2segment.io.db.models import Station, Segment, concat, Channel\n",
    "from stream2segment.io.utils import loads_inv\n",
    "# warnings.simplefilter('always')\n",
    "from IPython.display import clear_output\n",
    "\n",
    "_fle = os.path.abspath(os.path.join('.', 'jnconfig.yaml'))\n",
    "assert os.path.isfile(_fle)\n",
    "with open(_fle, \"r\") as _:\n",
    "    jnconfig = yaml.safe_load(_)\n",
    "\n",
    "dbpath_old = jnconfig['dbpath_old']\n",
    "dbpath_new = jnconfig['dbpath_new']\n",
    "\n",
    "with open(os.path.join(os.getcwd(), 's2s_2018_01_smod_gtk.txt')) as _:\n",
    "    content1 = _.read().split(\"\\n\")\n",
    "with open(os.path.join(os.getcwd(), 's2s_2018_01_smod_ita.txt')) as _:\n",
    "    content2 = _.read().split(\"\\n\")\n",
    "\n",
    "data_seed_ids = sorted(set(_ for _ in chain(content1, content2) if _))\n",
    "# data_seed_id_tostr = \" \".join(('\"%s\"' % _) for _ in data_seed_ids)\n",
    "# print('  data_seed_id: \\'%s\\'' % data_seed_id_tostr)\n",
    "\n",
    "print('%d good channels from list. Checking names' % len(data_seed_ids))\n",
    "sta_locations = set()\n",
    "data_seed_ids_tmp = list(data_seed_ids)\n",
    "data_seed_ids = []\n",
    "try:\n",
    "    for i, data_seed_id in enumerate(data_seed_ids_tmp):\n",
    "        clear_output(wait=True)\n",
    "        print(\"%.0f%% done\" % (100*i/len(data_seed_ids_tmp)))\n",
    "        data_seed_id_ = data_seed_id.replace('.NA.', '..').replace('.0.', '.00.').replace('.1.', '.01.')\n",
    "        segment = sess.query(Segment).filter(\n",
    "                    (Segment.data_seed_id == data_seed_id_) # Station.segments.any(Segment.has_data) &\n",
    "                    & (Segment.has_data == True)\n",
    "                    # & (Station.start_time == stime)\n",
    "                    # & (Station.has_inventory==True) # Station.segments.any(Segment.has_data)\n",
    "                    # & Channel.channel.in_(channels)\n",
    "                ).limit(1).options(load_only(Segment.id)).first()\n",
    "        if segment is None:\n",
    "            raise Exception(data_seed_id + ' not found')\n",
    "        data_seed_ids.append(data_seed_id_)\n",
    "        sta_locations.add((segment.station.id, segment.station.longitude, segment.station.latitude))\n",
    "finally:\n",
    "    sess.close()\n",
    "\n",
    "data_seed_ids = sorted(set(data_seed_ids))\n",
    "print(\"%d good channels found\" % len(data_seed_ids))"
   ]
  },
  {
   "cell_type": "code",
   "execution_count": 90,
   "metadata": {},
   "outputs": [
    {
     "name": "stdout",
     "output_type": "stream",
     "text": [
      "STATIONS LOCATIONS\n"
     ]
    },
    {
     "data": {
      "image/png": "[encoded data removed]",
      "text/plain": [
       "<Figure size 432x288 with 1 Axes>"
      ]
     },
     "metadata": {
      "needs_background": "light"
     },
     "output_type": "display_data"
    }
   ],
   "source": [
    "%matplotlib inline\n",
    "\n",
    "import matplotlib\n",
    "import numpy as np\n",
    "import matplotlib.pyplot as plt\n",
    "\n",
    "print('STATIONS LOCATIONS')\n",
    "fig = plt.scatter([_[1] for _ in sta_locations], [_[2] for _ in sta_locations])\n",
    "plt.show()"
   ]
  },
  {
   "cell_type": "code",
   "execution_count": 95,
   "metadata": {
    "scrolled": false
   },
   "outputs": [
    {
     "name": "stdout",
     "output_type": "stream",
     "text": [
      "Finding stations with the wrong inventories on old database, and adding them to the list of channels\n",
      "\n",
      "5 wrong station ids found (mapped to local wrong inventory file)\n"
     ]
    }
   ],
   "source": [
    "import dateutil.parser\n",
    "from collections import defaultdict\n",
    "\n",
    "# wrong_stations_list = '''\n",
    "# CH.GRIMS.2011-11-09T00:00:00.HHE\n",
    "# CH.GRIMS.2011-11-09T00:00:00.HHN\n",
    "# CH.GRIMS.2011-11-09T00:00:00.HHZ\n",
    "# CH.GRIMS.2015-10-30T10:50:00.HHE\n",
    "# CH.GRIMS.2015-10-30T10:50:00.HHN\n",
    "# CH.GRIMS.2015-10-30T10:50:00.HHZ\n",
    "# SK.MODS.2004-03-17T00:00:00.HHE\n",
    "# SK.MODS.2004-03-17T00:00:00.HHN\n",
    "# SK.MODS.2004-03-17T00:00:00.HHZ\n",
    "# SK.ZST.2004-03-17T00:00:00.HHE\n",
    "# SK.ZST.2004-03-17T00:00:00.HHN\n",
    "# SK.ZST.2004-03-17T00:00:00.HHZ\n",
    "# FR.PYLO.2010-01-17T10:00:00.HNE\n",
    "# FR.PYLO.2010-01-17T10:00:00.HNN\n",
    "# FR.PYLO.2010-01-17T10:00:00.HNZ\n",
    "# '''.strip().split('\\n')\n",
    "\n",
    "# wrong_stations_dict = defaultdict(list)\n",
    "# for _ in wrong_stations_list:\n",
    "#     wrong_stations_dict[\".\".join(_.split('.')[:3])].append(_.split('.')[-1])\n",
    "# wrong_stations_set = set(wrong_stations_list)\n",
    "\n",
    "\n",
    "wrong_stations_dict = {\n",
    "    'CH.GRIMS.2011-11-09T00:00:00': ['HHE', 'HHN', 'HHZ'],\n",
    "    'CH.GRIMS.2015-10-30T10:50:00': ['HHE', 'HHN', 'HHZ'],\n",
    "    'SK.MODS.2004-03-17T00:00:00': ['HHE', 'HHN', 'HHZ'],\n",
    "    'SK.ZST.2004-03-17T00:00:00': ['HHE', 'HHN', 'HHZ'],\n",
    "    'FR.PYLO.2010-01-17T10:00:00': ['HNE', 'HNN', 'HNZ']\n",
    "}\n",
    "\n",
    "print('Finding stations with the wrong inventories on old database, and adding them to the list of channels')\n",
    "print('')\n",
    "wrongstaids = defaultdict(list)\n",
    "try:\n",
    "    for stakey, channels in wrong_stations_dict.items():\n",
    "        net, sta, stime = stakey.split('.')\n",
    "        stime = dateutil.parser.parse(stime)\n",
    "        channels_ = sess.query(Channel).join(Channel.station).filter(\n",
    "                    (Station.netsta_code == \"%s.%s\" % (net, sta)) # Station.segments.any(Segment.has_data) &\n",
    "                    & (Station.start_time == stime)\n",
    "                    & (Station.has_inventory==True) # Station.segments.any(Segment.has_data)\n",
    "                    & Channel.channel.in_(channels)\n",
    "                ).all()\n",
    "        for cha in channels_:\n",
    "            inv_filename = cha.station.network + '.' + cha.station.station + '.' + cha.station.start_time.isoformat()\n",
    "            cha_key = cha.station.network + '.' + cha.station.station + '.' + cha.location + '.' + cha.channel\n",
    "            if cha.station.id not in wrongstaids:\n",
    "                wrongstaids[cha.station.id] = {}\n",
    "            wrongstaids[cha.station.id][cha_key] =  inv_filename + '.xml'\n",
    "    print(\"%d wrong station ids found (mapped to local wrong inventory file)\" % len(wrongstaids) )\n",
    "finally:\n",
    "    sess.close()\n",
    "\n",
    "for key, val in wrongstaids.items():\n",
    "    for key2, val2 in val.items():\n",
    "        data_seed_ids.append(key2)\n",
    "data_seed_ids = sorted(data_seed_ids)"
   ]
  },
  {
   "cell_type": "code",
   "execution_count": 96,
   "metadata": {},
   "outputs": [
    {
     "name": "stdout",
     "output_type": "stream",
     "text": [
      "194 unique stations found. Querying those with inventories having both accelerometers and velocimenters\n",
      "\n",
      "53 stations with inventories both accel and velocimeter found\n"
     ]
    }
   ],
   "source": [
    "from obspy import Trace, Stream, UTCDateTime\n",
    "import numpy as np\n",
    "from sqlalchemy import func, distinct\n",
    "from sqlalchemy.orm import load_only\n",
    "import random\n",
    "\n",
    "# get unique stations:\n",
    "from itertools import chain\n",
    "stations = set()\n",
    "for _ in data_seed_ids:\n",
    "    station = \".\".join(_.split('.')[:2])\n",
    "    if station not in stations:\n",
    "        stations.add(station)\n",
    "\n",
    "stations = sorted(stations)\n",
    "print('%d unique stations found. Querying those with inventories having both accelerometers and velocimenters' % len(stations))\n",
    "print('')\n",
    "sess = get_session(dbpath_new)\n",
    "sta_vel_acc = {}\n",
    "try:\n",
    "    stations_ = sess.query(Station).join(Station.channels).filter(\n",
    "                (Station.netsta_code.in_(list(stations))) # Station.segments.any(Segment.has_data) &\n",
    "                & (Station.has_inventory==True) # Station.segments.any(Segment.has_data)\n",
    "                & (Station.channels.any(Channel.instrument_code.in_([\"N\", \"L\" ,\"G\"])))\n",
    "                & (Station.channels.any(~Channel.instrument_code.in_([\"N\", \"L\" ,\"G\"])))\n",
    "            ).options(load_only(Station.id, Station.network, Station.station, Station.start_time)).\\\n",
    "            order_by(Station.network, Station.station, Station.start_time)\n",
    "    # print(str(stations_))\n",
    "    stations_ = stations_.all()\n",
    "    for _ in stations_:\n",
    "        sta_vel_acc[_.id] = \"%s.%s.%s\" % (_.network, _.station, _.start_time.isoformat())\n",
    "        # print(\"  %d:  \\\"%s.%s.%s\\\"\" % (_.id, _.network, _.station, _.start_time.isoformat()))\n",
    "finally:\n",
    "    sess.close()\n",
    "print('%d stations with inventories both accel and velocimeter found' % (len(sta_vel_acc)))"
   ]
  },
  {
   "cell_type": "code",
   "execution_count": 87,
   "metadata": {
    "scrolled": false
   },
   "outputs": [
    {
     "name": "stdout",
     "output_type": "stream",
     "text": [
      "\n",
      "# List of station ids whose inventory has both accel. and veloc. (use a dict for faster search, dict values are supposed to be ignored)\n",
      "\n",
      "station_ids_both_accel_veloc:\n",
      "  3937:  \"BS.BLKB.2012-11-20T00:00:00\"\n",
      "  5795:  \"CH.DIX.1999-08-04T00:00:00\"\n",
      "  5796:  \"CH.DIX.2010-06-24T00:00:00\"\n",
      "  5797:  \"CH.DIX.2016-11-03T17:20:00\"\n",
      "  5824:  \"CH.FUSIO.2005-12-01T00:00:00\"\n",
      "  5825:  \"CH.FUSIO.2008-10-21T00:00:00\"\n",
      "  5826:  \"CH.FUSIO.2017-08-16T19:00:00\"\n",
      "  5860:  \"CH.MMK.2017-10-12T16:00:00\"\n",
      "  5861:  \"CH.MMK.2018-07-02T13:00:00\"\n",
      "  5878:  \"CH.NALPS.2017-08-24T10:00:00\"\n",
      "  516:  \"CL.ROD3.2014-03-14T14:00:00\"\n",
      "  3502:  \"CQ.OSC2.2015-07-17T00:00:00\"\n",
      "  674:  \"FR.ESCA.2008-06-11T11:30:00\"\n",
      "  678:  \"FR.ESCA.2012-03-28T10:10:00\"\n",
      "  681:  \"FR.ESCA.2014-07-30T12:30:00\"\n",
      "  759:  \"FR.MON.2008-08-13T10:30:00\"\n",
      "  760:  \"FR.MON.2008-12-18T08:30:00\"\n",
      "  761:  \"FR.MON.2010-01-07T10:30:00\"\n",
      "  707:  \"FR.MON.2010-01-22T09:15:00\"\n",
      "  762:  \"FR.MON.2016-06-27T12:00:00\"\n",
      "  814:  \"FR.OGDI.2010-02-21T00:00:00\"\n",
      "  966:  \"FR.SAOF.2008-02-01T10:51:00\"\n",
      "  967:  \"FR.SAOF.2010-09-16T11:06:00\"\n",
      "  968:  \"FR.SAOF.2018-09-12T10:32:00\"\n",
      "  969:  \"FR.SAOF.2018-12-17T12:05:00\"\n",
      "  9811:  \"GE.KARP.2009-11-25T00:00:00\"\n",
      "  9921:  \"GE.TIRR.2003-10-13T00:00:00\"\n",
      "  3620:  \"HL.AMGA.2012-05-30T00:00:00\"\n",
      "  3642:  \"HL.GVD.2010-09-21T00:00:00\"\n",
      "  3655:  \"HL.KARP.2009-11-24T00:00:00\"\n",
      "  3707:  \"HL.PRK.2012-12-29T00:00:00\"\n",
      "  4199:  \"IV.ACER.2007-07-05T12:00:00\"\n",
      "  4214:  \"IV.APEC.2014-02-06T12:00:00\"\n",
      "  4249:  \"IV.ATPC.2009-01-26T15:00:00\"\n",
      "  4300:  \"IV.CAFE.2010-02-03T14:00:00\"\n",
      "  4664:  \"IV.MOMA.2011-08-08T14:00:00\"\n",
      "  4674:  \"IV.MRB1.2004-01-29T00:00:00\"\n",
      "  4675:  \"IV.MRB1.2010-01-25T16:00:00\"\n",
      "  4686:  \"IV.MSAG.2006-05-25T17:00:00\"\n",
      "  4831:  \"IV.RM10.2009-04-07T00:00:00\"\n",
      "  4849:  \"IV.RM28.2009-06-19T00:00:00\"\n",
      "  4867:  \"IV.ROVR.2008-10-08T00:00:00\"\n",
      "  4919:  \"IV.SGRT.2006-05-24T17:00:00\"\n",
      "  4978:  \"IV.T0502.2011-05-25T00:00:00\"\n",
      "  4979:  \"IV.T0503.2011-05-25T00:00:00\"\n",
      "  5097:  \"IV.VITU.2014-03-21T17:00:00\"\n",
      "  5169:  \"MN.BLY.2009-05-21T08:00:00\"\n",
      "  5170:  \"MN.BLY.2017-12-13T12:00:00\"\n",
      "  5225:  \"MN.TUE.2010-08-20T11:50:00\"\n",
      "  5226:  \"MN.TUE.2017-07-26T09:02:00\"\n",
      "  5267:  \"OX.CGRP.2016-01-01T00:00:00\"\n",
      "\n",
      "# List of station ids with a wrong inventory saved locally. Each id is mapped to a channel mapped in turn to the relative file name\n",
      "\n",
      "station_ids_with_wrong_local_inventory:\n",
      "  5831:\n",
      "    CH.GRIMS..HHE: \"CH.GRIMS.2011-11-09T00:00:00.xml\"\n",
      "    CH.GRIMS..HHN: \"CH.GRIMS.2011-11-09T00:00:00.xml\"\n",
      "    CH.GRIMS..HHZ: \"CH.GRIMS.2011-11-09T00:00:00.xml\"\n",
      "  5833:\n",
      "    CH.GRIMS..HHE: \"CH.GRIMS.2015-10-30T10:50:00.xml\"\n",
      "    CH.GRIMS..HHN: \"CH.GRIMS.2015-10-30T10:50:00.xml\"\n",
      "    CH.GRIMS..HHZ: \"CH.GRIMS.2015-10-30T10:50:00.xml\"\n",
      "  10179:\n",
      "    SK.MODS..HHE: \"SK.MODS.2004-03-17T00:00:00.xml\"\n",
      "    SK.MODS..HHN: \"SK.MODS.2004-03-17T00:00:00.xml\"\n",
      "    SK.MODS..HHZ: \"SK.MODS.2004-03-17T00:00:00.xml\"\n",
      "  10186:\n",
      "    SK.ZST..HHE: \"SK.ZST.2004-03-17T00:00:00.xml\"\n",
      "    SK.ZST..HHN: \"SK.ZST.2004-03-17T00:00:00.xml\"\n",
      "    SK.ZST..HHZ: \"SK.ZST.2004-03-17T00:00:00.xml\"\n",
      "  890:\n",
      "    FR.PYLO.00.HNE: \"FR.PYLO.2010-01-17T10:00:00.xml\"\n",
      "    FR.PYLO.00.HNN: \"FR.PYLO.2010-01-17T10:00:00.xml\"\n",
      "    FR.PYLO.00.HNZ: \"FR.PYLO.2010-01-17T10:00:00.xml\"\n",
      "\n",
      "# Segment select data_seed_id\n",
      "\n",
      "  data_seed_id: '\"AC.PUK..HHN\" \"BS.BLKB..HNN\" \"BS.VETAM..HNN\" \"CH.DIX..HGN\" \"CH.FUSIO..HGN\" \"CH.FUSIO..HHN\" \"CH.GRIMS..HHE\" \"CH.GRIMS..HHE\" \"CH.GRIMS..HHN\" \"CH.GRIMS..HHN\" \"CH.GRIMS..HHZ\" \"CH.GRIMS..HHZ\" \"CH.MMK..HGN\" \"CH.MUGIO..HHN\" \"CH.NALPS..HHN\" \"CL.ROD3.01.EHN\" \"CQ.OSC2.01.HHN\" \"FR.ESCA.00.HNN\" \"FR.ESCA.01.HHN\" \"FR.MON.00.HNN\" \"FR.MVIF.00.HHN\" \"FR.OGDI.00.HHN\" \"FR.PYLO.00.HNE\" \"FR.PYLO.00.HNN\" \"FR.PYLO.00.HNZ\" \"FR.SAOF.00.HNN\" \"GE.GVD..HHN\" \"GE.KARP..HHN\" \"GE.KARP..HNN\" \"GE.MATE..HHN\" \"GE.SANT..HHN\" \"GE.TIRR..HHN\" \"GU.ENR..HHN\" \"GU.FIVI..HNN\" \"GU.GORR..HHN\" \"GU.PZZ..HHN\" \"GU.SATI..HHN\" \"GU.SC2M..HHN\" \"HA.EPID..HHN\" \"HA.EREA..HHN\" \"HA.KARY..HHN\" \"HA.LOUT..HHN\" \"HA.MAKR..HHN\" \"HA.PROD..HHN\" \"HA.SNT1..HHN\" \"HC.FRMA..HHN\" \"HC.GVDS..HHN\" \"HC.KNDR..HHN\" \"HC.KSTL..HHN\" \"HI.KRI1..HNN\" \"HL.AMGA..HHN\" \"HL.ARG..HHN\" \"HL.ATH..HHN\" \"HL.DION..HHN\" \"HL.DION..HNN\" \"HL.GVD..HHN\" \"HL.GVD.00.HNN\" \"HL.JAN..HHN\" \"HL.KARP..HHN\" \"HL.KARP..HNN\" \"HL.KASA.00.HNN\" \"HL.KEK..HHN\" \"HL.LIA..HHN\" \"HL.LKR..HHN\" \"HL.MGNA.00.HNN\" \"HL.NEO..HHN\" \"HL.NOAC.00.HNN\" \"HL.PATC.00.HNN\" \"HL.PRK..HHN\" \"HL.PRK..HNN\" \"HL.SANT..HHN\" \"HL.SMG..HHN\" \"HL.VAM..HHN\" \"HL.YDRA.00.HNN\" \"HP.AMT.00.HHN\" \"HP.ANX..HHN\" \"HP.ANX..HNN\" \"HP.DRO..HHN\" \"HP.FSK..HNN\" \"HP.GUR..HHN\" \"HP.LTHK..HHN\" \"HP.PDO..HHN\" \"HP.PVO..HHN\" \"HP.SERG..HHN\" \"HT.CMBO..HHN\" \"HT.LKD2..HHN\" \"HT.NIS1..HHN\" \"HT.SOH..HHN\" \"HT.TSLK..HHN\" \"IV.ACER..HHN\" \"IV.AIO..HHN\" \"IV.APEC..HHN\" \"IV.ATCC..EHN\" \"IV.ATPC..HHN\" \"IV.ATPC..HNN\" \"IV.ATVO..HNN\" \"IV.BORM..HNN\" \"IV.BRMO..HHN\" \"IV.CAFE..HNN\" \"IV.CAFR..HHN\" \"IV.CAR1..HHN\" \"IV.DOI..HHN\" \"IV.FAGN..HHN\" \"IV.FIU..EHN\" \"IV.FNVD..HHN\" \"IV.FOSV..HNN\" \"IV.FRON..EHN\" \"IV.HCRL..HHN\" \"IV.IMI..HHN\" \"IV.LNSS..HHN\" \"IV.LTRZ..HNN\" \"IV.MABI..HHN\" \"IV.MCEL..HNN\" \"IV.MCRV..HHN\" \"IV.MGAB..HNN\" \"IV.MOMA..HHN\" \"IV.MRB1..HHN\" \"IV.MSAG..HHN\" \"IV.MSRU..HHN\" \"IV.MTCR..EHN\" \"IV.NOCI..HHN\" \"IV.NOV..HHN\" \"IV.NOVE..EHN\" \"IV.ORI..HHN\" \"IV.PALZ..HHN\" \"IV.PII..HHN\" \"IV.PIO1..HNN\" \"IV.PIPA..HHN\" \"IV.PR02..HHN\" \"IV.RCAV..EHN\" \"IV.RM05..HNN\" \"IV.RM10..EHN\" \"IV.RM10..HNN\" \"IV.RM28..EHN\" \"IV.ROVR..HHN\" \"IV.SCTE..HHN\" \"IV.SFI..HNN\" \"IV.SGRT..HHN\" \"IV.SIRI..HNN\" \"IV.SMA1..EHN\" \"IV.T0502..EHN\" \"IV.T0502..HNN\" \"IV.T0503..EHN\" \"IV.T0702..EHN\" \"IV.T0711..EHN\" \"IV.T0711..HNN\" \"IV.VARE..HHN\" \"IV.VITU..HHN\" \"IV.ZEN8..HNN\" \"KO.ARMT..HHN\" \"KO.BALB..HHN\" \"KO.BGKT..HHN\" \"KO.CAVI..HHN\" \"KO.CRLT..HHN\" \"KO.CTKS..HHN\" \"KO.CTYL..HHN\" \"KO.ERIK..HHN\" \"KO.EZN..HHN\" \"KO.GEMT..HHN\" \"KO.GULA..HHN\" \"KO.GURO..HHN\" \"KO.HRTX..HHN\" \"KO.KAVV..HHN\" \"KO.KCTX..HHN\" \"KO.KRBG..HHN\" \"KO.KURC..HHN\" \"KO.LAP..HHN\" \"KO.PHSR..HHN\" \"KO.RKY..HHN\" \"KO.SAUV..HHN\" \"KO.SLVT..HHN\" \"KO.YLV..HHN\" \"ME.KOME..HHN\" \"MN.BLY..HHN\" \"MN.BLY..HLN\" \"MN.PDG..HHN\" \"MN.PDG..HLN\" \"MN.TUE..HHN\" \"MN.TUE..HLN\" \"NI.AGOR..BHN\" \"NI.AGOR..HHN\" \"OT.TAR1..HHN\" \"OX.CGRP..HNN\" \"PZ.BRGZ..EHN\" \"PZ.EASY..EHN\" \"PZ.HYBL..EHN\" \"PZ.PIER..EHN\" \"PZ.SCRP..EHN\" \"RA.BELV.00.HNN\" \"SI.KOSI..HHN\" \"SK.MODS..HHE\" \"SK.MODS..HHN\" \"SK.MODS..HHZ\" \"SK.ZST..HHE\" \"SK.ZST..HHN\" \"SK.ZST..HHZ\" \"TU.BORA..HHN\" \"TV.A001..EHN\" \"TV.AT01..EHN\" \"TV.CCN3..EHN\" \"XW.W02.00.BHN\" \"XW.W03.00.HHN\" \"XW.W04.00.BHN\" \"XW.W04.00.HHN\" \"XW.W05.00.BHN\" \"XW.W05.00.HHN\" \"XW.W08.00.BHN\" \"XW.W12.00.HHN\" \"XW.W13.00.BHN\" \"XW.W14.00.HHN\" \"XW.W16.00.HHN\" \"XY.ERE.00.HHN\" \"XY.KOY.00.HHN\" \"XY.UMT.00.HHN\" \"YI.E01.00.BHN\" \"YI.E02.00.BHN\" \"YI.E05.00.BHN\" \"YI.E12.00.BHN\" \"YI.E20.00.BHN\" \"Z3.AMOE..HHN\" \"ZZ.AMOE..HHN\" \"ZZ.PARO..HHN\" \"ZZ.SIFN..HHN\"'\n"
     ]
    }
   ],
   "source": [
    "# print inventories with accelerometer and velocimeter\n",
    "print('\\n# List of station ids whose inventory has both accel. and veloc. (use a dict for faster search, dict values are supposed to be ignored)')\n",
    "print('\\nstation_ids_both_accel_veloc:')\n",
    "for id, key in sta_vel_acc.items():\n",
    "    # sta_vel_acc[_.id] = \"\\\"%s.%s.%s\\\"\" % (_.network, _.station, _.start_time.isoformat())\n",
    "    print(\"  %d:  \\\"%s\\\"\" % (id, key))\n",
    "    \n",
    "# wrong sta ids:\n",
    "print('\\n# List of station ids with a wrong inventory saved locally. Each id is mapped to a channel mapped in turn to the relative file name')\n",
    "print('\\nstation_ids_with_wrong_local_inventory:')\n",
    "for key, val in wrongstaids.items():\n",
    "    print(\"  %s:\" % key)\n",
    "    for key2, val2 in val.items():\n",
    "        print('    %s: \"%s\"' % (key2, val2))\n",
    "        \n",
    "# print data seed ids. First merge the wrong sta ids\n",
    "print('\\n# Segment select data_seed_id')\n",
    "data_seed_id_tostr = \" \".join(('\"%s\"' % _) for _ in data_seed_ids)\n",
    "print('\\n  data_seed_id: \\'%s\\'' % data_seed_id_tostr)\n"
   ]
  },
  {
   "cell_type": "code",
   "execution_count": null,
   "metadata": {
    "scrolled": false
   },
   "outputs": [],
   "source": [
    "## Rule: take segment. Process, label = 0 (good). Then: \n",
    "#  it is one of the wrong inventories: -> calculate with the wrong inventory (label=1, outlier)\n",
    "#  it is one with inventory also for velocimenter, take all velocimeters,\n",
    "#     replace response and calculate with the wrong inventory (label=1)\n",
    "#  For gain in 0.1, 0.5 2 5 10 calculate also with different gain"
   ]
  },
  {
   "cell_type": "code",
   "execution_count": null,
   "metadata": {},
   "outputs": [],
   "source": []
  }
 ],
 "metadata": {
  "kernelspec": {
   "display_name": "Python 3",
   "language": "python",
   "name": "python3"
  },
  "language_info": {
   "codemirror_mode": {
    "name": "ipython",
    "version": 3
   },
   "file_extension": ".py",
   "mimetype": "text/x-python",
   "name": "python",
   "nbconvert_exporter": "python",
   "pygments_lexer": "ipython3",
   "version": "3.7.3"
  }
 },
 "nbformat": 4,
 "nbformat_minor": 2
}
