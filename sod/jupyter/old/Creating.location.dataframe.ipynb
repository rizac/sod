{
 "cells": [
  {
   "cell_type": "code",
   "execution_count": 2,
   "metadata": {},
   "outputs": [
    {
     "name": "stdout",
     "output_type": "stream",
     "text": [
      "Loaded dataset. Columns:\n",
      "['psd@0.05sec', 'psd@0.1sec', 'psd@0.2sec', 'psd@0.5sec', 'psd@1sec', 'psd@2sec', 'psd@3sec', 'psd@5sec', 'psd@9sec', 'outlier', 'modified', 'window_type', 'start_time', 'length_sec', 'amplitude_ratio', 'event_id', 'station_id', 'event_time', 'channel_code', 'magnitude', 'distance_km', 'Segment.db.id']\n"
     ]
    }
   ],
   "source": [
    "import os, warnings, sys, yaml\n",
    "from stream2segment.process.db import get_session\n",
    "from stream2segment.io.db.models import Station, Segment, concat, Channel\n",
    "from stream2segment.io.utils import loads_inv\n",
    "# warnings.simplefilter('always')\n",
    "_fle = os.path.abspath(os.path.join('.', 'jnconfig.yaml'))\n",
    "assert os.path.isfile(_fle)\n",
    "with open(_fle, \"r\") as _:\n",
    "    jnconfig = yaml.safe_load(_)\n",
    "\n",
    "# dbpath_old = jnconfig['dbpath_old']\n",
    "DBPATH = jnconfig['dbpath_new']\n",
    "HDFFILE = '/Users/riccardo/work/gfz/projects/sources/python/sod/sod/datasets/oneminutewindows.hdf'\n",
    "assert os.path.isfile(HDFFILE)\n",
    "\n",
    "import pandas as pd\n",
    "dataframe = pd.read_hdf(HDFFILE)\n",
    "dataframe_old = dataframe.copy()\n",
    "# dataframe = open_dataset('globalset', normalize=False)\n",
    "\n",
    "print('Loaded dataset. Columns:')\n",
    "print(dataframe.columns.tolist())\n",
    "\n",
    "# import pandas as pd\n",
    "# print('Unique datasets IDS:')\n",
    "# print(pd.unique(dataframe.dataset_id).tolist())"
   ]
  },
  {
   "cell_type": "code",
   "execution_count": 3,
   "metadata": {
    "scrolled": false
   },
   "outputs": [
    {
     "name": "stderr",
     "output_type": "stream",
     "text": [
      "/Users/riccardo/work/gfz/projects/sources/python/sod/.env/sod/lib/python3.7/site-packages/psycopg2/__init__.py:144: UserWarning: The psycopg2 wheel package will be renamed from release 2.8; in order to keep installing from binary please use \"pip install psycopg2-binary\" instead. For details see: <http://initd.org/psycopg/docs/install.html#binary-install-from-pypi>.\n",
      "  \"\"\")\n"
     ]
    },
    {
     "name": "stdout",
     "output_type": "stream",
     "text": [
      "214246 non-empty locations found for DATASET 1\n",
      "Query done, setting locations\n",
      "Saving to hdf: /Users/riccardo/work/gfz/projects/sources/python/sod/sod/datasets/oneminutewindows.hdf.loccode.hdf\n"
     ]
    }
   ],
   "source": [
    "from IPython.display import clear_output  # https://stackoverflow.com/a/24818304\n",
    "import time\n",
    "from datetime import timedelta\n",
    "\n",
    "EUROPE_DATASET_ID = 1\n",
    "ME_DATASET_ID = 2\n",
    "\n",
    "DATASET_ID = EUROPE_DATASET_ID\n",
    "\n",
    "sess = get_session(DBPATH)\n",
    "# dataframe['location_code'] = ''\n",
    "qry = sess.query(Segment.id, Channel.location).join(Segment.channel, Segment.station).filter(\n",
    "    (Channel.location != '') & (Station.id.in_(pd.unique(dataframe.station_id).tolist()))\n",
    ").all()\n",
    "\n",
    "\n",
    "total = len(qry)\n",
    "print(str(total) + ' non-empty locations found for DATASET %d' % DATASET_ID)\n",
    "print('Query done, setting locations')\n",
    "\n",
    "ID = 'Segment.db.id'  #'globalset.id'\n",
    "LOC = 'location_code'\n",
    "if LOC not in dataframe.columns:\n",
    "    dataframe[LOC] = ''\n",
    "\n",
    "df2 = pd.DataFrame(qry, columns=[ID, LOC])\n",
    "df2[ID] = df2[ID].astype(int)\n",
    "\n",
    "flo = HDFFILE + '.loccode.hdf'\n",
    "print('Saving to hdf: %s' % flo)\n",
    "\n",
    "HDFFILE2 = os.path.dirname(HDFFILE), os.path.basename(HDFFILE)\n",
    "df2.to_hdf(flo, format='table', mode='w', key='allset')\n",
    "\n",
    "# print('Found on database these distinct locations ' + str(pd.unique(df2[LOC]).tolist()))\n",
    "# print('Merging')\n",
    "# dataframe = dataframe.merge(df2, how='left', on=[ID], validate='m:1')\n",
    "# print(dataframe.columns)\n",
    "\n",
    "# tobeset = dataframe[ID].isin(df2[ID]) & (dataframe.dataset_id == DATASET_ID)\n",
    "# dataframe.loc[tobeset, LOC] = dataframe[LOC + '_y']\n",
    "# dataframe.loc[~tobeset, LOC] = dataframe[LOC + '_x']\n",
    "# dataframe.drop([LOC+'_x', LOC+'_y'], axis=1, inplace=True)\n",
    "\n",
    "# assert len(dataframe) == len(dataframe_old)\n",
    "# print('New locations: %s' % str(pd.unique(dataframe[LOC])))\n",
    "# print('Checking equality')\n",
    "# assert (dataframe[list(_ for _ in dataframe.columns if _ != LOC)].equals(\n",
    "#     dataframe_old[list(_ for _ in dataframe_old.columns if _ != LOC)]))\n",
    "\n",
    "\n",
    "# now save files:\n",
    "# dataframe.to_hdf('/Users/riccardo/work/gfz/projects/sources/python/sod/sod/datasets/allset.hdf',\n",
    "#                 format='table', mode='w', key='allset')\n",
    "\n",
    "\n"
   ]
  },
  {
   "cell_type": "code",
   "execution_count": null,
   "metadata": {},
   "outputs": [],
   "source": []
  }
 ],
 "metadata": {
  "kernelspec": {
   "display_name": "Python 3",
   "language": "python",
   "name": "python3"
  },
  "language_info": {
   "codemirror_mode": {
    "name": "ipython",
    "version": 3
   },
   "file_extension": ".py",
   "mimetype": "text/x-python",
   "name": "python",
   "nbconvert_exporter": "python",
   "pygments_lexer": "ipython3",
   "version": "3.7.3"
  }
 },
 "nbformat": 4,
 "nbformat_minor": 2
}
