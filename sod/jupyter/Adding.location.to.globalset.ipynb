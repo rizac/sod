{
 "cells": [
  {
   "cell_type": "code",
   "execution_count": 1,
   "metadata": {},
   "outputs": [],
   "source": [
    "import os, warnings, sys, yaml\n",
    "from stream2segment.process.db import get_session\n",
    "from stream2segment.io.db.models import Station, Segment, concat, Channel\n",
    "from stream2segment.io.utils import loads_inv\n",
    "# warnings.simplefilter('always')\n",
    "_fle = os.path.abspath(os.path.join('.', 'jnconfig.yaml'))\n",
    "assert os.path.isfile(_fle)\n",
    "with open(_fle, \"r\") as _:\n",
    "    jnconfig = yaml.safe_load(_)\n",
    "\n",
    "# dbpath_old = jnconfig['dbpath_old']\n",
    "dbpath = jnconfig['dbpath_new']\n",
    "\n",
    "import sys\n",
    "sys.path.append(os.path.dirname(os.path.dirname(os.getcwd())))\n",
    "from sod.core.dataset import open_dataset"
   ]
  },
  {
   "cell_type": "code",
   "execution_count": 2,
   "metadata": {
    "scrolled": false
   },
   "outputs": [],
   "source": [
    "import pandas as pd\n",
    "dataframe = pd.read_hdf('/Users/riccardo/work/gfz/projects/sources/python/sod/sod/datasets/globalset.hdf')\n",
    "dataframe_old = dataframe.copy()\n",
    "# dataframe = open_dataset('globalset', normalize=False)"
   ]
  },
  {
   "cell_type": "code",
   "execution_count": 17,
   "metadata": {},
   "outputs": [
    {
     "data": {
      "text/plain": [
       "Index(['Segment.db.id', 'dataset_id', 'psd@0.05sec', 'psd@0.1sec',\n",
       "       'psd@0.2sec', 'psd@0.5sec', 'psd@1sec', 'psd@2sec', 'psd@3sec',\n",
       "       'psd@5sec', 'psd@9sec', 'outlier', 'subclass', 'window_type',\n",
       "       'amplitude_ratio', 'event_id', 'station_id', 'event_time',\n",
       "       'channel_code', 'magnitude', 'distance_km'],\n",
       "      dtype='object')"
      ]
     },
     "execution_count": 17,
     "metadata": {},
     "output_type": "execute_result"
    }
   ],
   "source": [
    "# dtmp = dataframe.copy()\n",
    "# dataframe = dtmp\n",
    "dataframe.columns"
   ]
  },
  {
   "cell_type": "code",
   "execution_count": 6,
   "metadata": {},
   "outputs": [],
   "source": [
    "import pandas as pd\n",
    "pd.unique(dataframe.dataset_id)"
   ]
  },
  {
   "cell_type": "code",
   "execution_count": 8,
   "metadata": {
    "scrolled": false
   },
   "outputs": [
    {
     "name": "stdout",
     "output_type": "stream",
     "text": [
      "214246 non-empty locations found for DATASET 1\n",
      "Query done, setting locations\n",
      "Found on database these distinct locations ['00', '01']\n",
      "Merging\n",
      "Index(['Segment.db.id', 'dataset_id', 'psd@0.05sec', 'psd@0.1sec',\n",
      "       'psd@0.2sec', 'psd@0.5sec', 'psd@1sec', 'psd@2sec', 'psd@3sec',\n",
      "       'psd@5sec', 'psd@9sec', 'outlier', 'subclass', 'window_type',\n",
      "       'amplitude_ratio', 'event_id', 'station_id', 'event_time',\n",
      "       'channel_code', 'magnitude', 'distance_km', 'location_code_x',\n",
      "       'location_code_y'],\n",
      "      dtype='object')\n",
      "New locations: ['01' '00' '']\n",
      "Checking equality\n"
     ]
    },
    {
     "ename": "AssertionError",
     "evalue": "",
     "output_type": "error",
     "traceback": [
      "\u001b[0;31m---------------------------------------------------------------------------\u001b[0m",
      "\u001b[0;31mAssertionError\u001b[0m                            Traceback (most recent call last)",
      "\u001b[0;32m<ipython-input-8-2540510e5379>\u001b[0m in \u001b[0;36m<module>\u001b[0;34m\u001b[0m\n\u001b[1;32m     39\u001b[0m \u001b[0mprint\u001b[0m\u001b[0;34m(\u001b[0m\u001b[0;34m'Checking equality'\u001b[0m\u001b[0;34m)\u001b[0m\u001b[0;34m\u001b[0m\u001b[0;34m\u001b[0m\u001b[0m\n\u001b[1;32m     40\u001b[0m assert (dataframe[list(_ for _ in dataframe.columns if _ != LOC)].equals(\n\u001b[0;32m---> 41\u001b[0;31m     dataframe_old[list(_ for _ in dataframe_old.columns if _ != LOC)]))\n\u001b[0m\u001b[1;32m     42\u001b[0m \u001b[0;34m\u001b[0m\u001b[0m\n\u001b[1;32m     43\u001b[0m \u001b[0;34m\u001b[0m\u001b[0m\n",
      "\u001b[0;31mAssertionError\u001b[0m: "
     ]
    }
   ],
   "source": [
    "from IPython.display import clear_output  # https://stackoverflow.com/a/24818304\n",
    "import time\n",
    "from datetime import timedelta\n",
    "\n",
    "EUROPE_DATASET_ID = 1\n",
    "ME_DATASET_ID = 2\n",
    "\n",
    "DATASET_ID = EUROPE_DATASET_ID\n",
    "\n",
    "sess = get_session(dbpath)\n",
    "# dataframe['location_code'] = ''\n",
    "qry = sess.query(Segment.id, Channel.location).join(Segment.channel, Segment.station).filter(\n",
    "    (Channel.location != '') & (Station.id.in_(pd.unique(dataframe[dataframe.dataset_id == DATASET_ID].station_id).tolist()))\n",
    ").all()\n",
    "\n",
    "\n",
    "total = len(qry)\n",
    "print(str(total) + ' non-empty locations found for DATASET %d' % DATASET_ID)\n",
    "print('Query done, setting locations')\n",
    "\n",
    "ID = 'Segment.db.id'  #'globalset.id'\n",
    "LOC = 'location_code'\n",
    "if LOC not in dataframe.columns:\n",
    "    dataframe[LOC] = ''\n",
    "\n",
    "df2 = pd.DataFrame(qry, columns=[ID, LOC])\n",
    "print('Found on database these distinct locations ' + str(pd.unique(df2[LOC]).tolist()))\n",
    "print('Merging')\n",
    "dataframe = dataframe.merge(df2, how='left', on=[ID], validate='m:1')\n",
    "print(dataframe.columns)\n",
    "\n",
    "tobeset = dataframe[ID].isin(df2[ID]) & (dataframe.dataset_id == DATASET_ID)\n",
    "dataframe.loc[tobeset, LOC] = dataframe[LOC + '_y']\n",
    "dataframe.loc[~tobeset, LOC] = dataframe[LOC + '_x']\n",
    "dataframe.drop([LOC+'_x', LOC+'_y'], axis=1, inplace=True)\n",
    "\n",
    "assert len(dataframe) == len(dataframe_old)\n",
    "print('New locations: %s' % str(pd.unique(dataframe[LOC])))\n",
    "print('Checking equality')\n",
    "assert (dataframe[list(_ for _ in dataframe.columns if _ != LOC)].equals(\n",
    "    dataframe_old[list(_ for _ in dataframe_old.columns if _ != LOC)]))\n",
    "\n",
    "\n",
    "# now save files:\n",
    "# dataframe.to_hdf('/Users/riccardo/work/gfz/projects/sources/python/sod/sod/datasets/allset.hdf',\n",
    "#                 format='table', mode='w', key='allset')\n",
    "\n",
    "\n"
   ]
  },
  {
   "cell_type": "code",
   "execution_count": null,
   "metadata": {},
   "outputs": [],
   "source": []
  }
 ],
 "metadata": {
  "kernelspec": {
   "display_name": "Python 3",
   "language": "python",
   "name": "python3"
  },
  "language_info": {
   "codemirror_mode": {
    "name": "ipython",
    "version": 3
   },
   "file_extension": ".py",
   "mimetype": "text/x-python",
   "name": "python",
   "nbconvert_exporter": "python",
   "pygments_lexer": "ipython3",
   "version": "3.7.3"
  }
 },
 "nbformat": 4,
 "nbformat_minor": 2
}
